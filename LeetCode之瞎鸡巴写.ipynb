{
 "cells": [
  {
   "cell_type": "code",
   "execution_count": 23,
   "metadata": {
    "ExecuteTime": {
     "end_time": "2019-04-23T09:15:34.849585Z",
     "start_time": "2019-04-23T09:15:34.843573Z"
    }
   },
   "outputs": [
    {
     "data": {
      "text/plain": [
       "4"
      ]
     },
     "execution_count": 23,
     "metadata": {},
     "output_type": "execute_result"
    }
   ],
   "source": [
    "last = 0 \n",
    "now = 0\n",
    "nums=[2,1,1,2]\n",
    "for i in nums: \n",
    "    #其实就是一个奇数和偶数位元素求和，哪个更大么？\n",
    "    last, now = now, max(last + i, now)\n",
    "now"
   ]
  },
  {
   "cell_type": "code",
   "execution_count": 27,
   "metadata": {
    "ExecuteTime": {
     "end_time": "2019-04-23T11:10:12.243369Z",
     "start_time": "2019-04-23T11:10:12.236388Z"
    }
   },
   "outputs": [
    {
     "data": {
      "text/plain": [
       "4"
      ]
     },
     "execution_count": 27,
     "metadata": {},
     "output_type": "execute_result"
    }
   ],
   "source": [
    "def rob( nums):\n",
    "        \"\"\"\n",
    "        :type nums: List[int]\n",
    "        :rtype: int\n",
    "        \"\"\"\n",
    "        result = 0\n",
    "\n",
    "        if not nums:\n",
    "            return result\n",
    "            \n",
    "        for i in range(len(nums)):\n",
    "            result = max(result, nums[i] + rob(nums[i+2:]))\n",
    "\n",
    "        return result\n",
    "nums=[2,1,1,2]\n",
    "rob(nums=nums)"
   ]
  },
  {
   "cell_type": "code",
   "execution_count": 7,
   "metadata": {
    "ExecuteTime": {
     "end_time": "2019-04-24T02:23:40.858620Z",
     "start_time": "2019-04-24T02:23:40.853608Z"
    }
   },
   "outputs": [
    {
     "name": "stdout",
     "output_type": "stream",
     "text": [
      "1\n",
      "<class 'int'>\n",
      "2\n",
      "<class 'int'>\n",
      "3\n",
      "<class 'int'>\n"
     ]
    }
   ],
   "source": [
    "n=123\n",
    "for  i  in str(n):\n",
    "    i=int(i)\n",
    "    print(i)\n",
    "    print(type(i))"
   ]
  },
  {
   "cell_type": "code",
   "execution_count": 10,
   "metadata": {
    "ExecuteTime": {
     "end_time": "2019-04-24T02:40:57.167011Z",
     "start_time": "2019-04-24T02:40:57.154046Z"
    }
   },
   "outputs": [
    {
     "name": "stdout",
     "output_type": "stream",
     "text": [
      "19\n",
      "82\n",
      "68\n",
      "100\n"
     ]
    },
    {
     "data": {
      "text/plain": [
       "True"
      ]
     },
     "execution_count": 10,
     "metadata": {},
     "output_type": "execute_result"
    }
   ],
   "source": [
    "def isHappy( n):\n",
    "        \"\"\"\n",
    "        :type n: int\n",
    "        :rtype: bool\n",
    "        \"\"\"\n",
    "        a=set()\n",
    "        \n",
    "        while n!=1:\n",
    "            tem=0\n",
    "            for i in str(n):\n",
    "                tem+=int(i)**2\n",
    "            \n",
    "            print(n)\n",
    "            if n in a:\n",
    "                return False\n",
    "            else:\n",
    "                a.add(n)\n",
    "            n=tem\n",
    "        return True\n",
    "    \n",
    "isHappy(19)"
   ]
  },
  {
   "cell_type": "code",
   "execution_count": 8,
   "metadata": {
    "ExecuteTime": {
     "end_time": "2019-04-25T05:18:46.245260Z",
     "start_time": "2019-04-25T05:18:46.236256Z"
    }
   },
   "outputs": [
    {
     "name": "stdout",
     "output_type": "stream",
     "text": [
      "2\n",
      "3\n",
      "5\n",
      "7\n"
     ]
    },
    {
     "data": {
      "text/plain": [
       "4"
      ]
     },
     "execution_count": 8,
     "metadata": {},
     "output_type": "execute_result"
    }
   ],
   "source": [
    "def countPrimes(n):\n",
    "        \"\"\"\n",
    "        :type n: int\n",
    "        :rtype: int\n",
    "        \"\"\"\n",
    "        if n==0 or n==1:\n",
    "            return 0\n",
    "        flag=0\n",
    "        count=0\n",
    "        for i in range(2,n):  # 循环检查每个小于n的数\n",
    "            # 检查是否为质数\n",
    "            \n",
    "            for j in range(2,i):\n",
    "                if i%j == 0:\n",
    "                    flag=1\n",
    "                    break\n",
    "            if flag==0:\n",
    "                count+=1\n",
    "                print(i)\n",
    "            else:\n",
    "                flag=0\n",
    "        return count\n",
    "countPrimes(10)"
   ]
  },
  {
   "cell_type": "code",
   "execution_count": 22,
   "metadata": {
    "ExecuteTime": {
     "end_time": "2019-04-25T13:15:27.293472Z",
     "start_time": "2019-04-25T13:15:27.284468Z"
    }
   },
   "outputs": [
    {
     "data": {
      "text/plain": [
       "False"
      ]
     },
     "execution_count": 22,
     "metadata": {},
     "output_type": "execute_result"
    }
   ],
   "source": [
    "def isIsomorphic(s, t):\n",
    "        \"\"\"\n",
    "        :type s: str\n",
    "        :type t: str\n",
    "        :rtype: bool\n",
    "        \"\"\"\n",
    "        l1=aabb(s)\n",
    "        l2=aabb(t)\n",
    "        \n",
    "        for i in range(len(l1)):\n",
    "            if l1[i] != l2[i]:\n",
    "                return False\n",
    "        return True\n",
    "        \n",
    "def aabb(s):\n",
    "    a={}\n",
    "    b=1\n",
    "    c=[]\n",
    "    for i in s:\n",
    "        if i in a:\n",
    "            c.append(a[i])\n",
    "        else:\n",
    "            a[i]=b\n",
    "            c.append(b)\n",
    "            b+=1\n",
    "    return c\n",
    "\n",
    "isIsomorphic('abba','abab')"
   ]
  },
  {
   "cell_type": "code",
   "execution_count": 1,
   "metadata": {
    "ExecuteTime": {
     "end_time": "2019-04-26T06:33:09.647822Z",
     "start_time": "2019-04-26T06:33:09.643790Z"
    }
   },
   "outputs": [
    {
     "name": "stdout",
     "output_type": "stream",
     "text": [
      "3\n",
      "2\n",
      "1\n"
     ]
    }
   ],
   "source": [
    "a=[1,2,3]\n",
    "for i in a[::-1]:\n",
    "    print(i)"
   ]
  },
  {
   "cell_type": "code",
   "execution_count": 3,
   "metadata": {
    "ExecuteTime": {
     "end_time": "2019-05-10T08:25:46.609159Z",
     "start_time": "2019-05-10T08:25:46.603175Z"
    }
   },
   "outputs": [
    {
     "data": {
      "text/plain": [
       "str"
      ]
     },
     "execution_count": 3,
     "metadata": {},
     "output_type": "execute_result"
    }
   ],
   "source": [
    "n=5\n",
    "type(bin(n))\n",
    "\n"
   ]
  },
  {
   "cell_type": "markdown",
   "metadata": {},
   "source": [
    "# 232、用栈实现队列"
   ]
  },
  {
   "cell_type": "code",
   "execution_count": null,
   "metadata": {},
   "outputs": [],
   "source": [
    "class MyQueue(object):\n",
    "\n",
    "    def __init__(self):\n",
    "        \"\"\"\n",
    "        Initialize your data structure here.\n",
    "        \"\"\"\n",
    "        self.stack1=[]   # 用作存储数据\n",
    "        self.stack2=[]   # pop操作中用作中转\n",
    "        \n",
    "    def push(self, x):\n",
    "        \"\"\"\n",
    "        Push element x to the back of queue.\n",
    "        :type x: int\n",
    "        :rtype: None\n",
    "        \"\"\"\n",
    "        self.stack1.append(x)\n",
    "\n",
    "    def pop(self):\n",
    "        \"\"\"\n",
    "        Removes the element from in front of queue and returns that element.\n",
    "        :rtype: int\n",
    "        \"\"\"\n",
    "        while self.stack1:\n",
    "            self.stack2.append(self.stack1.pop()) # stack1中所有元素转移到了stack2中，并且顺序相反\n",
    "        res=self.stack2.pop() \n",
    "        while self.stack2:\n",
    "            self.stack1.append(self.stack2.pop())  # stack2 中元素转移回stack1\n",
    "        return res\n",
    "\n",
    "    def peek(self):\n",
    "        \"\"\"\n",
    "        Get the front element.\n",
    "        :rtype: int\n",
    "        \"\"\"\n",
    "        if len(self.stack1)>0:\n",
    "            return self.stack1[0]\n",
    "        else:\n",
    "            return None\n",
    "\n",
    "    def empty(self):\n",
    "        \"\"\"\n",
    "        Returns whether the queue is empty.\n",
    "        :rtype: bool\n",
    "        \"\"\"\n",
    "        return len(self.stack1) == 0\n",
    "\n",
    "\n",
    "# Your MyQueue object will be instantiated and called as such:\n",
    "# obj = MyQueue()\n",
    "# obj.push(x)\n",
    "# param_2 = obj.pop()\n",
    "# param_3 = obj.peek()\n",
    "# param_4 = obj.empty()"
   ]
  },
  {
   "cell_type": "markdown",
   "metadata": {},
   "source": [
    "# 234、回文链表"
   ]
  },
  {
   "cell_type": "code",
   "execution_count": null,
   "metadata": {},
   "outputs": [],
   "source": [
    "# Definition for singly-linked list.\n",
    "# class ListNode(object):\n",
    "#     def __init__(self, x):\n",
    "#         self.val = x\n",
    "#         self.next = None\n",
    "\n",
    "class Solution(object):\n",
    "    def isPalindrome(self, head):\n",
    "        \"\"\"\n",
    "        :type head: ListNode\n",
    "        :rtype: bool\n",
    "        \"\"\"\n",
    "        # 提取所有值\n",
    "        val_list=[]\n",
    "        while head:\n",
    "            val_list.append(head.val)\n",
    "            head=head.next\n",
    "        # 检验是否是回文\n",
    "        length=len(val_list)\n",
    "        for i in range(length//2):\n",
    "            if val_list[i] != val_list[length-i-1]:\n",
    "                return False\n",
    "        return True"
   ]
  },
  {
   "cell_type": "markdown",
   "metadata": {},
   "source": [
    "# 235、二叉搜索树的公共祖先"
   ]
  },
  {
   "cell_type": "markdown",
   "metadata": {},
   "source": [
    "**思路：\n",
    "二叉搜索树又叫做二叉排序树，二叉查找树。利用二叉搜索树性质：左子树都小于根节点内，右子树都大于根节点，如果在之间则已经找到了**"
   ]
  },
  {
   "cell_type": "code",
   "execution_count": null,
   "metadata": {},
   "outputs": [],
   "source": [
    "# Definition for a binary tree node.\n",
    "# class TreeNode(object):\n",
    "#     def __init__(self, x):\n",
    "#         self.val = x\n",
    "#         self.left = None\n",
    "#         self.right = None\n",
    "\n",
    "class Solution(object):\n",
    "    def lowestCommonAncestor(self, root, p, q):\n",
    "        \"\"\"\n",
    "        :type root: TreeNode\n",
    "        :type p: TreeNode\n",
    "        :type q: TreeNode\n",
    "        :rtype: TreeNode\n",
    "        \"\"\"\n",
    "        if p.val < root.val >q.val:\n",
    "            return self.lowestCommonAncestor(root.left,p,q)\n",
    "        if p.val > root.val < q.val:\n",
    "            return self.lowestCommonAncestor(root.right,p,q)\n",
    "        return root\n",
    "        "
   ]
  },
  {
   "cell_type": "markdown",
   "metadata": {},
   "source": [
    "# 237、删除链表中的点"
   ]
  },
  {
   "cell_type": "markdown",
   "metadata": {},
   "source": [
    "**思路：本题没有给head节点，只用node做。把node.next的值赋给node，然后node.next指向node.next.next**"
   ]
  },
  {
   "cell_type": "code",
   "execution_count": null,
   "metadata": {},
   "outputs": [],
   "source": [
    "# Definition for singly-linked list.\n",
    "# class ListNode(object):\n",
    "#     def __init__(self, x):\n",
    "#         self.val = x\n",
    "#         self.next = None\n",
    "\n",
    "class Solution(object):\n",
    "    def deleteNode(self, node):\n",
    "        \"\"\"\n",
    "        :type node: ListNode\n",
    "        :rtype: void Do not return anything, modify node in-place instead.\n",
    "        \"\"\"\n",
    "        node.val = node.next.val\n",
    "        node.next=node.next.next"
   ]
  },
  {
   "cell_type": "markdown",
   "metadata": {
    "ExecuteTime": {
     "end_time": "2019-05-15T02:49:44.294793Z",
     "start_time": "2019-05-15T02:49:44.289835Z"
    }
   },
   "source": [
    "# 242、有效的字母异位词"
   ]
  },
  {
   "cell_type": "code",
   "execution_count": null,
   "metadata": {},
   "outputs": [],
   "source": []
  },
  {
   "cell_type": "code",
   "execution_count": null,
   "metadata": {},
   "outputs": [],
   "source": [
    "class Solution(object):\n",
    "    def isAnagram(self, s, t):\n",
    "        \"\"\"\n",
    "        :type s: str\n",
    "        :type t: str\n",
    "        :rtype: bool\n",
    "        \"\"\"\n",
    "        alpha_count={}\n",
    "        for i in s:  # 统计s中字母出现的次数\n",
    "            if i not in alpha_count:\n",
    "                alpha_count[i]=1\n",
    "            else:\n",
    "                alpha_count[i]+=1\n",
    "        for j in t:  # t中如果出现相同字母则减一\n",
    "            if j not in alpha_count:\n",
    "                return False\n",
    "            else:\n",
    "                alpha_count[j]-=1\n",
    "        for v in alpha_count.values(): # 查看是否所有值都为0\n",
    "            if v != 0:\n",
    "                return False\n",
    "        return True"
   ]
  },
  {
   "cell_type": "code",
   "execution_count": 2,
   "metadata": {
    "ExecuteTime": {
     "end_time": "2019-05-15T02:52:45.674507Z",
     "start_time": "2019-05-15T02:52:45.670517Z"
    }
   },
   "outputs": [
    {
     "name": "stdout",
     "output_type": "stream",
     "text": [
      "a\n",
      "b\n",
      "c\n"
     ]
    }
   ],
   "source": [
    "s='abc'\n",
    "for i in s:\n",
    "    print(i)"
   ]
  },
  {
   "cell_type": "markdown",
   "metadata": {},
   "source": [
    "# 257、二叉树的所有路径"
   ]
  },
  {
   "cell_type": "markdown",
   "metadata": {},
   "source": [
    "从根节点出发找叶子，找到叶子之后，所有这条“找寻之路”上的所有节点构成了我们要打印出来的一条路径。所以，我们需要建立一个全局变量path，存储未到达当前节点时扫描过的路径中有哪些节点，作为从当前节点起，往叶子遍历所经过的路径的前缀。同理，最后的结果列表也是一个全局变量了。 \n",
    "所以，当题目中给出的函数形参只有一个root时，我们就需要再设定一个辅助函数，包含刚才说的path和result，让他们两个成为全局变量。 \n",
    "总结一下思路： \n",
    "1. 建立一个字符串变量path和结果列表result，初始化为空 \n",
    "2. 从根节点开始访问，之后访问其左子树，再访问其右子树 \n",
    "3. 每访问一个节点，将节点的值加入path，例如，访问完根节点后，path = “1 ->”，并将这里的path作为新的变量加入左右子树的遍历函数 \n",
    "4. 递归“触底”的条件：访问的节点为空 \n",
    "思路： \n",
    "二叉树遍历问题 \n",
    "如果当前节点的左儿子和右儿子都为None => 说明当前节点为一个根节点，输出一条路径 "
   ]
  },
  {
   "cell_type": "code",
   "execution_count": null,
   "metadata": {},
   "outputs": [],
   "source": [
    "# Definition for a binary tree node.\n",
    "# class TreeNode(object):\n",
    "#     def __init__(self, x):\n",
    "#         self.val = x\n",
    "#         self.left = None\n",
    "#         self.right = None\n",
    "\n",
    "\n",
    "class Solution(object):\n",
    "    def binaryTreePaths(self, root):\n",
    "        \"\"\"\n",
    "        :type root: TreeNode\n",
    "        :rtype: List[str]\n",
    "        \"\"\"\n",
    "        def get_path(root,path,res):  # 记录经过的节点\n",
    "            if not root.left and not root.right:  # 到达叶子节点，一条路径形成\n",
    "                res.append(path+str(root.val))\n",
    "                return\n",
    "            if root.left:\n",
    "                get_path(root.left,path+str(root.val)+'->',res)\n",
    "            if root.right:\n",
    "                get_path(root.right,path+str(root.val)+'->',res)\n",
    "            \n",
    "        if not root:\n",
    "            return []\n",
    "        res=[]\n",
    "        get_path(root,'',res)\n",
    "        return res"
   ]
  }
 ],
 "metadata": {
  "kernelspec": {
   "display_name": "Python 3",
   "language": "python",
   "name": "python3"
  },
  "language_info": {
   "codemirror_mode": {
    "name": "ipython",
    "version": 3
   },
   "file_extension": ".py",
   "mimetype": "text/x-python",
   "name": "python",
   "nbconvert_exporter": "python",
   "pygments_lexer": "ipython3",
   "version": "3.7.0"
  },
  "toc": {
   "base_numbering": 1,
   "nav_menu": {},
   "number_sections": true,
   "sideBar": true,
   "skip_h1_title": false,
   "title_cell": "Table of Contents",
   "title_sidebar": "Contents",
   "toc_cell": false,
   "toc_position": {
    "height": "calc(100% - 180px)",
    "left": "10px",
    "top": "150px",
    "width": "274.866px"
   },
   "toc_section_display": true,
   "toc_window_display": true
  },
  "varInspector": {
   "cols": {
    "lenName": 16,
    "lenType": 16,
    "lenVar": 40
   },
   "kernels_config": {
    "python": {
     "delete_cmd_postfix": "",
     "delete_cmd_prefix": "del ",
     "library": "var_list.py",
     "varRefreshCmd": "print(var_dic_list())"
    },
    "r": {
     "delete_cmd_postfix": ") ",
     "delete_cmd_prefix": "rm(",
     "library": "var_list.r",
     "varRefreshCmd": "cat(var_dic_list()) "
    }
   },
   "types_to_exclude": [
    "module",
    "function",
    "builtin_function_or_method",
    "instance",
    "_Feature"
   ],
   "window_display": false
  }
 },
 "nbformat": 4,
 "nbformat_minor": 2
}
